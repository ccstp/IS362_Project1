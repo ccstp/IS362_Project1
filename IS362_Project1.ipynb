{
 "cells": [
  {
   "cell_type": "markdown",
   "id": "0a8076f4",
   "metadata": {},
   "source": [
    "# IS 362 - Project 1 "
   ]
  },
  {
   "cell_type": "code",
   "execution_count": 1,
   "id": "029aaed2",
   "metadata": {},
   "outputs": [],
   "source": [
    "# import pandas, NumPy, and matplotlib\n",
    "\n",
    "import pandas as pan\n",
    "import numpy as num\n",
    "import matplotlib.pyplot as plt\n",
    "from pandas import DataFrame, Series\n",
    "\n",
    "%matplotlib inline\n",
    "\n",
    "# Read the information from your .CSV file into pandas.\n",
    "\n",
    "al = pan.read_csv ('Project1.csv')"
   ]
  },
  {
   "cell_type": "markdown",
   "id": "0492debc",
   "metadata": {},
   "source": [
    "## Data\n",
    "\n",
    "The data set that will be analyzed for this project is displayed below. The table displays the arrival delays for two airlines, Alaska and Am West, across five destinations. "
   ]
  },
  {
   "cell_type": "code",
   "execution_count": 2,
   "id": "5f8ef5f1",
   "metadata": {},
   "outputs": [
    {
     "data": {
      "text/html": [
       "<div>\n",
       "<style scoped>\n",
       "    .dataframe tbody tr th:only-of-type {\n",
       "        vertical-align: middle;\n",
       "    }\n",
       "\n",
       "    .dataframe tbody tr th {\n",
       "        vertical-align: top;\n",
       "    }\n",
       "\n",
       "    .dataframe thead th {\n",
       "        text-align: right;\n",
       "    }\n",
       "</style>\n",
       "<table border=\"1\" class=\"dataframe\">\n",
       "  <thead>\n",
       "    <tr style=\"text-align: right;\">\n",
       "      <th></th>\n",
       "      <th>destination</th>\n",
       "      <th>alaska_on_time</th>\n",
       "      <th>alaska_delayed</th>\n",
       "      <th>amwest_on_time</th>\n",
       "      <th>amwest_delayed</th>\n",
       "    </tr>\n",
       "  </thead>\n",
       "  <tbody>\n",
       "    <tr>\n",
       "      <th>0</th>\n",
       "      <td>Los Angeles</td>\n",
       "      <td>497</td>\n",
       "      <td>62</td>\n",
       "      <td>694</td>\n",
       "      <td>117</td>\n",
       "    </tr>\n",
       "    <tr>\n",
       "      <th>1</th>\n",
       "      <td>Phoenix</td>\n",
       "      <td>221</td>\n",
       "      <td>12</td>\n",
       "      <td>4840</td>\n",
       "      <td>415</td>\n",
       "    </tr>\n",
       "    <tr>\n",
       "      <th>2</th>\n",
       "      <td>San Diego</td>\n",
       "      <td>212</td>\n",
       "      <td>20</td>\n",
       "      <td>383</td>\n",
       "      <td>65</td>\n",
       "    </tr>\n",
       "    <tr>\n",
       "      <th>3</th>\n",
       "      <td>San Francisco</td>\n",
       "      <td>503</td>\n",
       "      <td>102</td>\n",
       "      <td>320</td>\n",
       "      <td>129</td>\n",
       "    </tr>\n",
       "    <tr>\n",
       "      <th>4</th>\n",
       "      <td>Seattle</td>\n",
       "      <td>1841</td>\n",
       "      <td>305</td>\n",
       "      <td>201</td>\n",
       "      <td>61</td>\n",
       "    </tr>\n",
       "  </tbody>\n",
       "</table>\n",
       "</div>"
      ],
      "text/plain": [
       "     destination  alaska_on_time  alaska_delayed  amwest_on_time  \\\n",
       "0    Los Angeles             497              62             694   \n",
       "1        Phoenix             221              12            4840   \n",
       "2      San Diego             212              20             383   \n",
       "3  San Francisco             503             102             320   \n",
       "4        Seattle            1841             305             201   \n",
       "\n",
       "   amwest_delayed  \n",
       "0             117  \n",
       "1             415  \n",
       "2              65  \n",
       "3             129  \n",
       "4              61  "
      ]
     },
     "execution_count": 2,
     "metadata": {},
     "output_type": "execute_result"
    }
   ],
   "source": [
    "al"
   ]
  },
  {
   "cell_type": "markdown",
   "id": "e08dadb8",
   "metadata": {},
   "source": [
    "## Analysis"
   ]
  },
  {
   "cell_type": "markdown",
   "id": "7d5c6121",
   "metadata": {},
   "source": [
    "### Part 1\n",
    "\n",
    "The analysis below involves calculating the total number of flights and the percentage of flights that were delayed for both airlines. "
   ]
  },
  {
   "cell_type": "code",
   "execution_count": 3,
   "id": "fddfce51",
   "metadata": {},
   "outputs": [
    {
     "data": {
      "text/plain": [
       "3775"
      ]
     },
     "execution_count": 3,
     "metadata": {},
     "output_type": "execute_result"
    }
   ],
   "source": [
    "# Calculate the total number of Alaska flights\n",
    "\n",
    "al.alaska_flights = al.alaska_on_time.sum() + al.alaska_delayed.sum()\n",
    "al.alaska_flights"
   ]
  },
  {
   "cell_type": "code",
   "execution_count": 4,
   "id": "d9a2137b",
   "metadata": {},
   "outputs": [
    {
     "data": {
      "text/plain": [
       "13.27"
      ]
     },
     "execution_count": 4,
     "metadata": {},
     "output_type": "execute_result"
    }
   ],
   "source": [
    "# Calculate delayed flight percentage for Alaska\n",
    "\n",
    "(al.alaska_delayed.sum() / al.alaska_flights * 100).round(2)"
   ]
  },
  {
   "cell_type": "code",
   "execution_count": 5,
   "id": "076ef2ce",
   "metadata": {},
   "outputs": [
    {
     "data": {
      "text/plain": [
       "7225"
      ]
     },
     "execution_count": 5,
     "metadata": {},
     "output_type": "execute_result"
    }
   ],
   "source": [
    "# Calculate the total number of Am West flights\n",
    "\n",
    "al.amwest_flights = al.amwest_on_time.sum() + al.amwest_delayed.sum()\n",
    "al.amwest_flights"
   ]
  },
  {
   "cell_type": "code",
   "execution_count": 6,
   "id": "080a77dd",
   "metadata": {},
   "outputs": [
    {
     "data": {
      "text/plain": [
       "10.89"
      ]
     },
     "execution_count": 6,
     "metadata": {},
     "output_type": "execute_result"
    }
   ],
   "source": [
    "# Calculate delayed flight percentage for Am West\n",
    "\n",
    "(al.amwest_delayed.sum() / al.amwest_flights * 100).round(2)"
   ]
  },
  {
   "cell_type": "markdown",
   "id": "01ab3ba3",
   "metadata": {},
   "source": [
    "### Part 2\n",
    "\n",
    "The analysis below involves calculating the percentage of flights that were delayed for each individual city by airline."
   ]
  },
  {
   "cell_type": "code",
   "execution_count": 7,
   "id": "47b03e06",
   "metadata": {},
   "outputs": [
    {
     "data": {
      "text/plain": [
       "0    11.09\n",
       "1     5.15\n",
       "2     8.62\n",
       "3    16.86\n",
       "4    14.21\n",
       "dtype: float64"
      ]
     },
     "execution_count": 7,
     "metadata": {},
     "output_type": "execute_result"
    }
   ],
   "source": [
    "# Create a panda series object to hold the Alaska delayed flight percentages for each city\n",
    "\n",
    "alaska_percent_delayed = pan.Series(al.alaska_delayed / (al.alaska_on_time + al.alaska_delayed) * 100)\n",
    "alaska_percent_delayed.round(2)"
   ]
  },
  {
   "cell_type": "code",
   "execution_count": 8,
   "id": "c30eca03",
   "metadata": {},
   "outputs": [
    {
     "data": {
      "text/plain": [
       "0    14.43\n",
       "1     7.90\n",
       "2    14.51\n",
       "3    28.73\n",
       "4    23.28\n",
       "dtype: float64"
      ]
     },
     "execution_count": 8,
     "metadata": {},
     "output_type": "execute_result"
    }
   ],
   "source": [
    "# Create a panda series object to hold the Am West delayed flight percentages for each city\n",
    "\n",
    "amwest_percent_delayed = pan.Series(al.amwest_delayed / (al.amwest_on_time + al.amwest_delayed) * 100)\n",
    "amwest_percent_delayed.round(2)"
   ]
  },
  {
   "cell_type": "code",
   "execution_count": 9,
   "id": "b640edb5",
   "metadata": {},
   "outputs": [
    {
     "data": {
      "text/html": [
       "<div>\n",
       "<style scoped>\n",
       "    .dataframe tbody tr th:only-of-type {\n",
       "        vertical-align: middle;\n",
       "    }\n",
       "\n",
       "    .dataframe tbody tr th {\n",
       "        vertical-align: top;\n",
       "    }\n",
       "\n",
       "    .dataframe thead th {\n",
       "        text-align: right;\n",
       "    }\n",
       "</style>\n",
       "<table border=\"1\" class=\"dataframe\">\n",
       "  <thead>\n",
       "    <tr style=\"text-align: right;\">\n",
       "      <th></th>\n",
       "      <th>destination</th>\n",
       "      <th>alaska_on_time</th>\n",
       "      <th>alaska_delayed</th>\n",
       "      <th>amwest_on_time</th>\n",
       "      <th>amwest_delayed</th>\n",
       "      <th>alaska_percent_delayed</th>\n",
       "      <th>amwest_percent_delayed</th>\n",
       "    </tr>\n",
       "  </thead>\n",
       "  <tbody>\n",
       "    <tr>\n",
       "      <th>0</th>\n",
       "      <td>Los Angeles</td>\n",
       "      <td>497</td>\n",
       "      <td>62</td>\n",
       "      <td>694</td>\n",
       "      <td>117</td>\n",
       "      <td>11.09</td>\n",
       "      <td>14.43</td>\n",
       "    </tr>\n",
       "    <tr>\n",
       "      <th>1</th>\n",
       "      <td>Phoenix</td>\n",
       "      <td>221</td>\n",
       "      <td>12</td>\n",
       "      <td>4840</td>\n",
       "      <td>415</td>\n",
       "      <td>5.15</td>\n",
       "      <td>7.90</td>\n",
       "    </tr>\n",
       "    <tr>\n",
       "      <th>2</th>\n",
       "      <td>San Diego</td>\n",
       "      <td>212</td>\n",
       "      <td>20</td>\n",
       "      <td>383</td>\n",
       "      <td>65</td>\n",
       "      <td>8.62</td>\n",
       "      <td>14.51</td>\n",
       "    </tr>\n",
       "    <tr>\n",
       "      <th>3</th>\n",
       "      <td>San Francisco</td>\n",
       "      <td>503</td>\n",
       "      <td>102</td>\n",
       "      <td>320</td>\n",
       "      <td>129</td>\n",
       "      <td>16.86</td>\n",
       "      <td>28.73</td>\n",
       "    </tr>\n",
       "    <tr>\n",
       "      <th>4</th>\n",
       "      <td>Seattle</td>\n",
       "      <td>1841</td>\n",
       "      <td>305</td>\n",
       "      <td>201</td>\n",
       "      <td>61</td>\n",
       "      <td>14.21</td>\n",
       "      <td>23.28</td>\n",
       "    </tr>\n",
       "  </tbody>\n",
       "</table>\n",
       "</div>"
      ],
      "text/plain": [
       "     destination  alaska_on_time  alaska_delayed  amwest_on_time  \\\n",
       "0    Los Angeles             497              62             694   \n",
       "1        Phoenix             221              12            4840   \n",
       "2      San Diego             212              20             383   \n",
       "3  San Francisco             503             102             320   \n",
       "4        Seattle            1841             305             201   \n",
       "\n",
       "   amwest_delayed  alaska_percent_delayed  amwest_percent_delayed  \n",
       "0             117                   11.09                   14.43  \n",
       "1             415                    5.15                    7.90  \n",
       "2              65                    8.62                   14.51  \n",
       "3             129                   16.86                   28.73  \n",
       "4              61                   14.21                   23.28  "
      ]
     },
     "execution_count": 9,
     "metadata": {},
     "output_type": "execute_result"
    }
   ],
   "source": [
    "al['alaska_percent_delayed'] = alaska_percent_delayed.round(2)\n",
    "al['amwest_percent_delayed'] = amwest_percent_delayed.round(2)\n",
    "al"
   ]
  },
  {
   "cell_type": "code",
   "execution_count": 10,
   "id": "986d3d46",
   "metadata": {},
   "outputs": [
    {
     "data": {
      "text/plain": [
       "Text(0.5, 0, 'Cities')"
      ]
     },
     "execution_count": 10,
     "metadata": {},
     "output_type": "execute_result"
    },
    {
     "data": {
      "image/png": "[encoded data removed]",
      "text/plain": [
       "<Figure size 432x288 with 1 Axes>"
      ]
     },
     "metadata": {
      "needs_background": "light"
     },
     "output_type": "display_data"
    }
   ],
   "source": [
    "# Plot the delayed flight percentage for each city\n",
    "\n",
    "al.plot.bar(x='destination', y=['alaska_percent_delayed', 'amwest_percent_delayed'])\n",
    "plt.ylabel('Percent')\n",
    "plt.xlabel('Cities')"
   ]
  },
  {
   "cell_type": "markdown",
   "id": "7611a204",
   "metadata": {},
   "source": [
    "## Results\n",
    "\n",
    "#### Below is the result of the Part 1 analysis:\n",
    "\n",
    "Alaska Airlines flew a total of 3775 flights. Of those 3775 flights, 13.27% were delayed.\n",
    "\n",
    "Am West Airlines flew a total of 7225 flights. Of those 7225 flights, 10.89% were delayed.\n",
    "\n",
    "#### Below is the result of the Part 2 analysis:\n",
    "\n",
    "Am West had more delayed flights than Alaska in each of the five destinations."
   ]
  },
  {
   "cell_type": "markdown",
   "id": "65900b42",
   "metadata": {},
   "source": [
    "## Conclusion\n",
    "\n",
    "Based on the Part 1 analysis, it might make sense to conclude that it would be better to fly Am West as it is has an overall lower percentage of delayed flights. However, when looking at arrival delays for each individual city in Part 2, it's clear that Alaska might be the better carrier to fly as it has lower delayed flight percentages than Am West in all five cities."
   ]
  }
 ],
 "metadata": {
  "kernelspec": {
   "display_name": "Python 3 (ipykernel)",
   "language": "python",
   "name": "python3"
  },
  "language_info": {
   "codemirror_mode": {
    "name": "ipython",
    "version": 3
   },
   "file_extension": ".py",
   "mimetype": "text/x-python",
   "name": "python",
   "nbconvert_exporter": "python",
   "pygments_lexer": "ipython3",
   "version": "3.9.7"
  }
 },
 "nbformat": 4,
 "nbformat_minor": 5
}
